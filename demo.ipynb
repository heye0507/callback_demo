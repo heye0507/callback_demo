{
 "cells": [
  {
   "cell_type": "code",
   "execution_count": 20,
   "id": "a9a6f51d",
   "metadata": {},
   "outputs": [],
   "source": [
    "import pickle, gzip, math\n",
    "import matplotlib.pyplot as plt\n",
    "\n",
    "import torch\n",
    "import torch.nn as nn\n",
    "from torch.utils.data import RandomSampler, SequentialSampler\n",
    "from torch.utils.data import TensorDataset, DataLoader"
   ]
  },
  {
   "cell_type": "code",
   "execution_count": 8,
   "id": "78d9c74b",
   "metadata": {},
   "outputs": [],
   "source": [
    "class TrainGlobalConfig:\n",
    "    # -------path control------------\n",
    "    PATH = '/mnt/home/hheat/USERDIR/rendering/demo/'\n",
    "    SAVE_PATH = '/mnt/home/hheat/USERDIR/rendering/demo/'#'/mnt/data/userdata/hheat/hyperNerf/'\n",
    "    DATA = f'/mnt/home/hheat/USERDIR/rendering/demo/data/mnist.pkl.gz'\n",
    "    folder = 'test'\n",
    "    cls_list = ['lego']\n",
    "    cuda_id = '0'\n",
    "    device = torch.device(f'cuda:0')\n",
    "                \n",
    "    # -------weight and bias --------\n",
    "    use_wb = False\n",
    "    wb_name = 'test' #'scene_condition_EXP15_lego_latent_hyper_512'\n",
    "    wb_notes = 'just a test'\n",
    "    wb_tags = ['test']\n",
    "    \n",
    "    \n",
    "    # -------hyper params------------\n",
    "    img_size = (200,200)\n",
    "    num_workers = 4\n",
    "    seed = 42\n",
    "    batch_size = 4\n",
    "    n_epochs = 2000\n",
    "    lr = 5e-4\n",
    "    lrate_decay = 500\n",
    "    decay_rate = 0.1\n",
    "    decay_const = 1000\n",
    "\n",
    "\n",
    "    # -------print control------------\n",
    "    verbose = True\n",
    "    verbose_step = 1\n",
    "    print_step = 1\n",
    "\n",
    "    \n",
    "    # --------------------\n",
    "config = TrainGlobalConfig"
   ]
  },
  {
   "cell_type": "code",
   "execution_count": 17,
   "id": "8de6818c",
   "metadata": {},
   "outputs": [],
   "source": [
    "def get_data(data_path):\n",
    "    print(f'{data_path}')\n",
    "    with gzip.open(data_path, 'rb') as f:\n",
    "        ((x_train, y_train), (x_valid, y_valid), _) = pickle.load(f, encoding='latin-1')\n",
    "    return map(torch.tensor, (x_train,y_train,x_valid,y_valid))\n",
    "\n",
    "def get_dataset(x_train,y_train,x_valid=None,y_valid=None):\n",
    "    if x_valid is None:\n",
    "        return TensorDataset(x_train,y_train),None\n",
    "    return TensorDataset(x_train,y_train),TensorDataset(x_valid,y_valid)\n",
    "\n",
    "def draw_num(image_tensor):\n",
    "    plt.imshow(image_tensor.numpy().reshape(28,28),cmap='gray')"
   ]
  },
  {
   "cell_type": "code",
   "execution_count": 14,
   "id": "2b0ce709",
   "metadata": {},
   "outputs": [
    {
     "name": "stdout",
     "output_type": "stream",
     "text": [
      "/mnt/home/hheat/USERDIR/rendering/demo/data/mnist.pkl.gz\n"
     ]
    }
   ],
   "source": [
    "x_train,y_train,x_valid,y_valid = get_data(config.DATA)\n",
    "train_ds,valid_ds = get_dataset(x_train,y_train,x_valid,y_valid)"
   ]
  },
  {
   "cell_type": "code",
   "execution_count": 19,
   "id": "a1db61b8",
   "metadata": {},
   "outputs": [
    {
     "data": {
      "image/png": "[encoded data removed]",
      "text/plain": [
       "<Figure size 432x288 with 1 Axes>"
      ]
     },
     "metadata": {
      "needs_background": "light"
     },
     "output_type": "display_data"
    }
   ],
   "source": [
    "draw_num(train_ds[0][0])"
   ]
  },
  {
   "cell_type": "code",
   "execution_count": 21,
   "id": "04cd945f",
   "metadata": {},
   "outputs": [],
   "source": [
    "train_loader = torch.utils.data.DataLoader(\n",
    "    train_ds,\n",
    "    sampler=RandomSampler(train_ds),\n",
    "    batch_size=config.batch_size,\n",
    "    pin_memory=False,\n",
    "    drop_last=False,\n",
    "    num_workers=config.num_workers,\n",
    ")\n",
    "\n",
    "val_render_loader = torch.utils.data.DataLoader(\n",
    "    valid_ds,\n",
    "    sampler=RandomSampler(valid_ds),\n",
    "    batch_size=config.batch_size*2,\n",
    "    pin_memory=False,\n",
    "    drop_last=False,\n",
    "    num_workers=config.num_workers,\n",
    ")"
   ]
  },
  {
   "cell_type": "code",
   "execution_count": 23,
   "id": "38e75629",
   "metadata": {},
   "outputs": [],
   "source": [
    "class CancelTrainException(Exception): pass\n",
    "class CancelEpochException(Exception): pass\n",
    "class CancelBatchException(Exception): pass\n",
    "\n",
    "#abstract class for new callback\n",
    "class Callback():\n",
    "    _order = 0\n",
    "    def _set_learner(self,learn): self.learn = learn\n",
    "    def begin_fit(self): pass\n",
    "    def after_fit(self): pass\n",
    "    def begin_epoch(self): pass\n",
    "    def begin_validate(self): pass\n",
    "    def after_epoch(self): pass\n",
    "    def begin_batch(self): pass\n",
    "    def after_batch(self): pass\n",
    "    def after_loss(self): pass\n",
    "    def begin_backward(self): pass\n",
    "    def after_backward(self): pass\n",
    "    def after_step(self): pass\n",
    "    def after_cancel_train(self): pass   \n",
    "    def after_cancel_epoch(self): pass\n",
    "    def after_cancel_batch(self): pass"
   ]
  },
  {
   "cell_type": "code",
   "execution_count": 26,
   "id": "5ff675dd",
   "metadata": {},
   "outputs": [],
   "source": [
    "class NewLearner():\n",
    "    def __init__(self, model, loss_func, dls, cbs=None):\n",
    "        self.model,self.loss_func,self.dls = model,loss_func,dls\n",
    "        self.in_train = False\n",
    "        self.cbs = []\n",
    "        self.cbs.append()\n",
    "        if cbs:\n",
    "            for cb in sorted(cbs,key = lambda x: x._order):\n",
    "                self.cbs.append(cb)\n",
    "        \n",
    "    def one_batch(self,xb,yb):\n",
    "        try: \n",
    "            self.xb, self.yb = xb, yb\n",
    "            for cb in self.cbs: \n",
    "                cb.begin_batch()\n",
    "            self.preds = self.model(self.xb)\n",
    "            self.loss = self.loss_func(self.preds,self.yb)\n",
    "            for cb in self.cbs: \n",
    "                cb.after_loss()\n",
    "            \n",
    "            if not self.in_train: return\n",
    "            \n",
    "            for cb in self.cbs: \n",
    "                cb.begin_backward()\n",
    "            self.loss.backward()\n",
    "            for cb in self.cbs: \n",
    "                cb.after_backward()\n",
    "            self.opt.step()\n",
    "            for cb in self.cbs: \n",
    "                cb.after_step()\n",
    "            self.opt.zero_grad()\n",
    "            \n",
    "        except CancelBatchException: \n",
    "            for cb in self.cbs: \n",
    "                cb.after_cancel_batch()\n",
    "        \n",
    "        finally:\n",
    "            for cb in self.cbs: \n",
    "                cb.after_batch()\n",
    "\n",
    "    def all_batches(self):\n",
    "        try:\n",
    "            for xb,yb in self.dl:\n",
    "                self.one_batch(xb,yb)\n",
    "        except CancelEpochException: \n",
    "            for cb in self.cbs: \n",
    "                cb.after_cancel_epoch()\n",
    "\n",
    "\n",
    "    def fit(self,epochs):\n",
    "        self.epochs = epochs\n",
    "        self.iters = len(self.dls[0])\n",
    "        try:\n",
    "            for cb in self.cbs: \n",
    "                cb._set_learner(self)\n",
    "            for cb in self.cbs: \n",
    "                cb.begin_fit()\n",
    "            for epoch in range(epochs):\n",
    "                self.epoch = epoch\n",
    "                self.dl = self.dls[0]\n",
    "                for cb in self.cbs: \n",
    "                    cb.begin_epoch()\n",
    "                self.all_batches()\n",
    "        \n",
    "                for cb in self.cbs: \n",
    "                    cb.begin_validate()\n",
    "                self.dl = self.dls[1]\n",
    "                with torch.no_grad(): \n",
    "                    self.all_batches()\n",
    "                for cb in self.cbs: \n",
    "                    cb.after_epoch()\n",
    "                \n",
    "        except CancelTrainException: \n",
    "            for cb in self.cbs: \n",
    "                cb.after_cancel_train()\n",
    "                \n",
    "        finally:\n",
    "            for cb in self.cbs: \n",
    "                cb.after_fit()\n",
    "            self.cbs.clear()"
   ]
  },
  {
   "cell_type": "code",
   "execution_count": null,
   "id": "32282369",
   "metadata": {},
   "outputs": [],
   "source": []
  }
 ],
 "metadata": {
  "kernelspec": {
   "display_name": "Python 3 (ipykernel)",
   "language": "python",
   "name": "python3"
  },
  "language_info": {
   "codemirror_mode": {
    "name": "ipython",
    "version": 3
   },
   "file_extension": ".py",
   "mimetype": "text/x-python",
   "name": "python",
   "nbconvert_exporter": "python",
   "pygments_lexer": "ipython3",
   "version": "3.9.12"
  }
 },
 "nbformat": 4,
 "nbformat_minor": 5
}
